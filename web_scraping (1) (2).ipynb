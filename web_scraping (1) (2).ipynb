{
  "nbformat": 4,
  "nbformat_minor": 0,
  "metadata": {
    "colab": {
      "provenance": []
    },
    "kernelspec": {
      "name": "python3",
      "display_name": "Python 3"
    },
    "language_info": {
      "name": "python"
    }
  },
  "cells": [
    {
      "cell_type": "code",
      "source": [
        "from googlesearch import search\n",
        "\n",
        "search_terms = [\n",
        "    '7114X WELCH ALLYN INC'\n",
        "    '7114X\tWELCH ALLYN INC',\n",
        "    '777\tWELCH ALLYN INC',\n",
        "    'Dash 4000\tGE Healthcare Non-Imaging\t',\n",
        "    'DH4\tHelmer Scientific\t',\n",
        "    'SXT7000 INT\tSCIFIT SYSTEMS INC',\n",
        "    'Symbia Evo\tSiemens Medical Systems - Imaging\t',\n",
        "    'SYMPHONY N3000\tNellcor (Covidien/Medtronic)\t'\n",
        "    'HMT1100 Abbott Laboratories INC',\n",
        "            'Rad-G MASIMO AMERICAS INC',\n",
        "        'ST4020 LEICA MICROSYSTEMS INC',\n",
        "         'DCP3-00115 TRICOR SYSTEMS INC',\n",
        "                           'ARTEVO 800 Zeiss USA',\n",
        "                \n",
        "]\n",
        "\n",
        "pdf_link = None\n",
        "\n",
        "for term in search_terms:\n",
        "    query = term + ' user manual pdf'\n",
        "    search_results = search(query, num=1, stop=1, pause=2, lang='en')\n",
        "\n",
        "    for result in search_results:\n",
        "        if result.endswith('.pdf'):\n",
        "            pdf_link = result\n",
        "            break\n",
        "\n",
        "    if pdf_link:\n",
        "        print(f\"User manual PDF link for '{term}': {pdf_link}\")\n",
        "    else:\n",
        "        print(f\"No user manual PDF link found for '{term}'\")\n"
      ],
      "metadata": {
        "colab": {
          "base_uri": "https://localhost:8080/"
        },
        "id": "NB71whO7BS0h",
        "outputId": "bc71b78f-5047-484b-f3da-e7654bdf9e31"
      },
      "execution_count": null,
      "outputs": [
        {
          "output_type": "stream",
          "name": "stdout",
          "text": [
            "User manual PDF link for '7114X WELCH ALLYN INC7114X\tWELCH ALLYN INC': https://www.hillrom.com/content/dam/hillrom-aem/us/en/sap-documents/LIT/80011/80011862LITPDF.pdf\n",
            "User manual PDF link for '777\tWELCH ALLYN INC': https://www.hillrom.com/content/dam/hillrom-aem/us/en/sap-documents/LIT/80011/80011862LITPDF.pdf\n",
            "User manual PDF link for 'Dash 4000\tGE Healthcare Non-Imaging\t': https://medaval.ie/docs/manuals/GE-Dash-3000-5000-Manual.pdf\n",
            "User manual PDF link for 'DH4\tHelmer Scientific\t': https://www.helmerinc.com/sites/default/files/2019-04/plasma-thawer-operation-manual-360094-1.pdf\n",
            "User manual PDF link for 'SXT7000 INT\tSCIFIT SYSTEMS INC': https://www.scifit.com/manuals/P3868%20SXT7000.pdf\n",
            "User manual PDF link for 'Symbia Evo\tSiemens Medical Systems - Imaging\t': https://www.scifit.com/manuals/P3868%20SXT7000.pdf\n",
            "User manual PDF link for 'SYMPHONY N3000\tNellcor (Covidien/Medtronic)\tHMT1100 Abbott Laboratories INC': https://www.scifit.com/manuals/P3868%20SXT7000.pdf\n",
            "User manual PDF link for 'Rad-G MASIMO AMERICAS INC': https://techdocs.masimo.com/globalassets/techdocs/pdf/lab-10076a_master.pdf\n",
            "User manual PDF link for 'ST4020 LEICA MICROSYSTEMS INC': https://www.leicabiosystems.com/sites/default/files/media_product-download/2021-03/Leica_ST4020_IFU_1v2E_en.pdf\n",
            "User manual PDF link for 'DCP3-00115 TRICOR SYSTEMS INC': https://www.leicabiosystems.com/sites/default/files/media_product-download/2021-03/Leica_ST4020_IFU_1v2E_en.pdf\n",
            "User manual PDF link for 'ARTEVO 800 Zeiss USA': https://www.zeiss.com/content/dam/med/ref_international/products/surgical-microscopes/ophthalmic-microscopes/artevo-800/documents/artevo800_en_32_010_0070ii.pdf\n"
          ]
        }
      ]
    },
    {
      "cell_type": "code",
      "source": [
        "from googlesearch import search\n",
        "\n",
        "search_terms = [\n",
        "    '7114X WELCH ALLYN INC',\n",
        "    '777 WELCH ALLYN INC',\n",
        "    'Dash 4000 GE Healthcare Non-Imaging',\n",
        "    'DH4 Helmer Scientific',\n",
        "    'SXT7000 INT SCIFIT SYSTEMS INC',\n",
        "    'Symbia Evo Siemens Medical Systems - Imaging',\n",
        "    'SYMPHONY N3000 Nellcor (Covidien/Medtronic)',\n",
        "    'HMT1100 Abbott Laboratories INC',\n",
        "    'Rad-G MASIMO AMERICAS INC',\n",
        "    'ST4020 LEICA MICROSYSTEMS INC',\n",
        "    'DCP3-00115 TRICOR SYSTEMS INC',\n",
        "    'ARTEVO 800 Zeiss USA'\n",
        "]\n",
        "\n",
        "for term in search_terms:\n",
        "    user_manual_query = term + ' user manual OR user guide OR user instructions pdf'\n",
        "    admin_manual_query = term + ' admin manual OR admin guide OR admin instructions pdf'\n",
        "\n",
        "    user_manual_link = None\n",
        "    admin_manual_link = None\n",
        "\n",
        "    user_search_results = search(user_manual_query, num=5, stop=5, pause=2, lang='en')\n",
        "    admin_search_results = search(admin_manual_query, num=5, stop=5, pause=2, lang='en')\n",
        "\n",
        "    for result in user_search_results:\n",
        "        if result.endswith('.pdf'):\n",
        "            user_manual_link = result\n",
        "            break\n",
        "\n",
        "    for result in admin_search_results:\n",
        "        if result.endswith('.pdf') and result != user_manual_link:\n",
        "            admin_manual_link = result\n",
        "            break\n",
        "\n",
        "    if user_manual_link:\n",
        "        print(f\"User manual PDF link for '{term}': {user_manual_link}\")\n",
        "    else:\n",
        "        print(f\"No user manual PDF link found for '{term}'\")\n",
        "\n",
        "    if admin_manual_link:\n",
        "        print(f\"Admin manual PDF link for '{term}': {admin_manual_link}\")\n",
        "    else:\n",
        "        print(f\"No admin manual PDF link found for '{term}'\")\n"
      ],
      "metadata": {
        "id": "dqZn00VMP9GP",
        "colab": {
          "base_uri": "https://localhost:8080/"
        },
        "outputId": "8aaf6afc-17dc-4d5b-8a22-6abbd8526ef8"
      },
      "execution_count": null,
      "outputs": [
        {
          "output_type": "stream",
          "name": "stdout",
          "text": [
            "User manual PDF link for '7114X WELCH ALLYN INC': https://www.hillrom.com/content/dam/hillrom-aem/us/en/sap-documents/LIT/80011/80011862LITPDF.pdf\n",
            "Admin manual PDF link for '7114X WELCH ALLYN INC': https://www.welchallyn.com/content/dam/welchallyn/documents/sap-documents/internalOnly/Training-and-Use/Installation-Guide/80015957LITPDF.pdf\n",
            "User manual PDF link for '777 WELCH ALLYN INC': https://image.tigermedical.com/Manuals/WEL77710-71M--20141215060104579.pdf\n",
            "Admin manual PDF link for '777 WELCH ALLYN INC': https://www.welchallyn.com/content/dam/welchallyn/documents/sap-documents/internalOnly/Training-and-Use/Installation-Guide/80015957LITPDF.pdf\n",
            "User manual PDF link for 'Dash 4000 GE Healthcare Non-Imaging': https://medaval.ie/docs/manuals/GE-Dash-3000-5000-Manual.pdf\n",
            "Admin manual PDF link for 'Dash 4000 GE Healthcare Non-Imaging': https://usme.com/wp-content/uploads/2022/06/GEHC-Service-Manual_Dash-3000-4000-5000-Patient-Monitor_v7.pdf\n",
            "User manual PDF link for 'DH4 Helmer Scientific': https://www.helmerinc.com/sites/default/files/2019-04/plasma-thawer-operation-manual-360094-1.pdf\n",
            "Admin manual PDF link for 'DH4 Helmer Scientific': https://www.helmerinc.com/sites/default/files/2021-10/Plasma-Thawer-Operation-Manual-360094-1.pdf\n",
            "User manual PDF link for 'SXT7000 INT SCIFIT SYSTEMS INC': https://www.scifit.com/manuals/P3868%20SXT7000.pdf\n",
            "Admin manual PDF link for 'SXT7000 INT SCIFIT SYSTEMS INC': https://www.performancehealth.com/media/support/kb/IF_921022165_man.pdf\n",
            "User manual PDF link for 'Symbia Evo Siemens Medical Systems - Imaging': https://www.deltamedicalsystems.com/wp-content/uploads/2021/02/Symbia-Evo-and-Evo-Excel-Brochure-11-2019.pdf\n",
            "No admin manual PDF link found for 'Symbia Evo Siemens Medical Systems - Imaging'\n",
            "User manual PDF link for 'SYMPHONY N3000 Nellcor (Covidien/Medtronic)': https://asiapac.medtronic.com/content/dam/covidien/library/us/en/product/pulse-oximetry/BedsideSpO2_OperatorsManual_en_PT00093073B00.pdf\n",
            "Admin manual PDF link for 'SYMPHONY N3000 Nellcor (Covidien/Medtronic)': https://asiapac.medtronic.com/content/dam/covidien/library/us/en/product/pulse-oximetry/PM1000N_OperatorsManual_EN_10104146E00.pdf\n",
            "User manual PDF link for 'HMT1100 Abbott Laboratories INC': https://www.cardiovascular.abbott/content/dam/bss/divisionalsites/cv/hcp/documents/us-hf-product-cat.pdf\n",
            "Admin manual PDF link for 'HMT1100 Abbott Laboratories INC': https://neurosphere.abbott/downloads/CPT_patientControlGuide.pdf\n",
            "User manual PDF link for 'Rad-G MASIMO AMERICAS INC': https://techdocs.masimo.com/globalassets/techdocs/pdf/lab-10076a_master.pdf\n",
            "Admin manual PDF link for 'Rad-G MASIMO AMERICAS INC': https://www.masimo.com/siteassets/us/documents/pdf/plm-12397d-product-information-rad-g-continuous-us.pdf\n",
            "User manual PDF link for 'ST4020 LEICA MICROSYSTEMS INC': https://www.leicabiosystems.com/sites/default/files/media_product-download/2021-03/Leica_ST4020_IFU_1v2E_en.pdf\n",
            "Admin manual PDF link for 'ST4020 LEICA MICROSYSTEMS INC': https://downloads.leica-microsystems.com/M822%20F20/User%20Manual/M822_UM_EN.pdf\n",
            "No user manual PDF link found for 'DCP3-00115 TRICOR SYSTEMS INC'\n",
            "No admin manual PDF link found for 'DCP3-00115 TRICOR SYSTEMS INC'\n",
            "User manual PDF link for 'ARTEVO 800 Zeiss USA': https://www.zeiss.com/content/dam/med/ref_international/products/surgical-microscopes/ophthalmic-microscopes/artevo-800/documents/artevo800_en_32_010_0070ii.pdf\n",
            "Admin manual PDF link for 'ARTEVO 800 Zeiss USA': https://www.zeiss.com/content/dam/med/ref_international/products/surgical-microscopes/ophthalmic-microscopes/artevo-800/documents/artevo800-en-32-010-0070iii.pdf\n"
          ]
        }
      ]
    },
    {
      "cell_type": "code",
      "source": [],
      "metadata": {
        "id": "kfG4uj3BUYHc"
      },
      "execution_count": null,
      "outputs": []
    },
    {
      "cell_type": "code",
      "source": [],
      "metadata": {
        "id": "18M6re6xUX-D"
      },
      "execution_count": null,
      "outputs": []
    },
    {
      "cell_type": "code",
      "source": [],
      "metadata": {
        "id": "SMOiPTyvUX2w"
      },
      "execution_count": null,
      "outputs": []
    },
    {
      "cell_type": "code",
      "source": [],
      "metadata": {
        "id": "wvp3AbboUX1x"
      },
      "execution_count": null,
      "outputs": []
    },
    {
      "cell_type": "code",
      "source": [],
      "metadata": {
        "id": "0pYwz3N-UX0p"
      },
      "execution_count": null,
      "outputs": []
    },
    {
      "cell_type": "code",
      "source": [],
      "metadata": {
        "id": "oExTuFppUXzf"
      },
      "execution_count": null,
      "outputs": []
    },
    {
      "cell_type": "code",
      "source": [],
      "metadata": {
        "id": "Q1RRHbb-UTcK"
      },
      "execution_count": null,
      "outputs": []
    },
    {
      "cell_type": "code",
      "source": [],
      "metadata": {
        "id": "G-sZCm6KUTY0"
      },
      "execution_count": null,
      "outputs": []
    },
    {
      "cell_type": "code",
      "source": [],
      "metadata": {
        "id": "YoTCs8Q1UTSw"
      },
      "execution_count": null,
      "outputs": []
    },
    {
      "cell_type": "code",
      "source": [],
      "metadata": {
        "id": "L4Dnt53EUSFS"
      },
      "execution_count": null,
      "outputs": []
    }
  ]
}